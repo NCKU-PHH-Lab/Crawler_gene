{
 "cells": [
  {
   "cell_type": "code",
   "execution_count": 38,
   "metadata": {},
   "outputs": [],
   "source": [
    "from selenium import webdriver\n",
    "from selenium.webdriver.common.keys import Keys\n",
    "import time\n",
    "from selenium.webdriver.common.by import By\n",
    "from selenium.webdriver.support.ui import WebDriverWait\n",
    "from selenium.webdriver.support import expected_conditions as EC"
   ]
  },
  {
   "cell_type": "code",
   "execution_count": 39,
   "metadata": {},
   "outputs": [],
   "source": [
    "PATH=\"C:/Users/User/Downloads/chromedriver_win322/chromedriver.exe\"\n",
    "#要開啟的網頁，必須去載其驅動，我這裡是弄chrome"
   ]
  },
  {
   "cell_type": "code",
   "execution_count": 40,
   "metadata": {},
   "outputs": [
    {
     "name": "stderr",
     "output_type": "stream",
     "text": [
      "<ipython-input-40-a4ef2c81a12f>:1: DeprecationWarning: executable_path has been deprecated, please pass in a Service object\n",
      "  driver = webdriver.Chrome(PATH)\n",
      "<ipython-input-40-a4ef2c81a12f>:5: DeprecationWarning: find_element_by_* commands are deprecated. Please use find_element() instead\n",
      "  search=driver.find_element_by_xpath('//*[@id=\"searchToolTextArea\"]')\n",
      "<ipython-input-40-a4ef2c81a12f>:9: DeprecationWarning: find_element_by_* commands are deprecated. Please use find_element() instead\n",
      "  title=driver.find_element_by_class_name(\"small\")\n"
     ]
    },
    {
     "name": "stdout",
     "output_type": "stream",
     "text": [
      "Mt1 MGI Mouse Gene Detail - MGI:97171 - metallothionein 1\n"
     ]
    }
   ],
   "source": [
    "driver = webdriver.Chrome(PATH)\n",
    "\n",
    "driver.get(\"http://www.informatics.jax.org/\")\n",
    "#search=driver.find_element_by_name(\"query\")\n",
    "search=driver.find_element_by_xpath('//*[@id=\"searchToolTextArea\"]')#這些東西都是xpath 我是弄相對位置，絕對位置很容易出問題\n",
    "search.send_keys(\"MT1\")\n",
    "search.send_keys(Keys.RETURN)\n",
    "time.sleep(3)#頁面跳轉需要時間\n",
    "title=driver.find_element_by_class_name(\"small\")\n",
    "link = WebDriverWait(driver, 20).until(\n",
    "    EC.presence_of_element_located((By.XPATH, '//*[@id=\"b1Table\"]/tbody/tr[2]/td[3]/a'))\n",
    ")#這一段是在等網頁結果出現在去抓資料，不然會出現錯誤\n",
    "\n",
    "\n",
    "link.click()\n",
    "\n",
    "\n",
    "windows = driver.window_handles\n",
    "# 切換到當前最新開啟的視窗\n",
    "driver.switch_to.window(windows[-1])\n",
    "print(driver.title)\n",
    "   \n",
    "\n",
    "\n",
    "IDS = WebDriverWait(driver, 20).until(\n",
    "    EC.presence_of_element_located((By.XPATH, '//*[@id=\"summaryRibbon\"]/div[2]/section[2]/ul/li[2]/div[2]/a'))\n",
    ")\n",
    "SequenceMap_v1 = WebDriverWait(driver, 20).until(\n",
    "    EC.presence_of_element_located((By.XPATH, '//*[@id=\"locationRibbon\"]/div[2]/section[1]/ul/li[1]/div[2]/div'))\n",
    ")\n",
    "\n",
    "Human_Ortholog = WebDriverWait(driver, 20).until(\n",
    "    EC.presence_of_element_located((By.XPATH, '//*[@id=\"homologyRibbon\"]/div[2]/section[1]/ul/li/div[2]'))\n",
    ")\n",
    "\n",
    "\n",
    "\n",
    "\n"
   ]
  },
  {
   "cell_type": "code",
   "execution_count": 41,
   "metadata": {},
   "outputs": [
    {
     "data": {
      "text/plain": [
       "'Chr8:94905710-94906955 bp, + strand'"
      ]
     },
     "execution_count": 41,
     "metadata": {},
     "output_type": "execute_result"
    }
   ],
   "source": [
    "SequenceMap_v1.text"
   ]
  },
  {
   "cell_type": "code",
   "execution_count": 42,
   "metadata": {},
   "outputs": [],
   "source": [
    "#將human的名字分隔出來\n",
    "b= Human_Ortholog.text.split(',')\n",
    "Human=b[0]"
   ]
  },
  {
   "cell_type": "code",
   "execution_count": 43,
   "metadata": {},
   "outputs": [
    {
     "data": {
      "text/plain": [
       "'MT1A'"
      ]
     },
     "execution_count": 43,
     "metadata": {},
     "output_type": "execute_result"
    }
   ],
   "source": [
    "Human"
   ]
  },
  {
   "cell_type": "code",
   "execution_count": 44,
   "metadata": {},
   "outputs": [
    {
     "name": "stdout",
     "output_type": "stream",
     "text": [
      "www.ncbi.nlm.nih.gov\n"
     ]
    },
    {
     "ename": "TimeoutException",
     "evalue": "Message: \nStacktrace:\nBacktrace:\n\tOrdinal0 [0x00C79943+2595139]\n\tOrdinal0 [0x00C0C9F1+2148849]\n\tOrdinal0 [0x00B04528+1066280]\n\tOrdinal0 [0x00B30FD4+1249236]\n\tOrdinal0 [0x00B311CB+1249739]\n\tOrdinal0 [0x00B5D812+1431570]\n\tOrdinal0 [0x00B4BA34+1358388]\n\tOrdinal0 [0x00B5BAF2+1424114]\n\tOrdinal0 [0x00B4B806+1357830]\n\tOrdinal0 [0x00B26086+1204358]\n\tOrdinal0 [0x00B26F96+1208214]\n\tGetHandleVerifier [0x00E1B232+1658114]\n\tGetHandleVerifier [0x00ED312C+2411516]\n\tGetHandleVerifier [0x00D0F261+560433]\n\tGetHandleVerifier [0x00D0E366+556598]\n\tOrdinal0 [0x00C1286B+2173035]\n\tOrdinal0 [0x00C175F8+2192888]\n\tOrdinal0 [0x00C176E5+2193125]\n\tOrdinal0 [0x00C211FC+2232828]\n\tBaseThreadInitThunk [0x76FFFA29+25]\n\tRtlGetAppContainerNamedObjectPath [0x77CA7A9E+286]\n\tRtlGetAppContainerNamedObjectPath [0x77CA7A6E+238]\n",
     "output_type": "error",
     "traceback": [
      "\u001b[1;31m---------------------------------------------------------------------------\u001b[0m",
      "\u001b[1;31mTimeoutException\u001b[0m                          Traceback (most recent call last)",
      "\u001b[1;32m<ipython-input-44-8d3e272a91e6>\u001b[0m in \u001b[0;36m<module>\u001b[1;34m\u001b[0m\n\u001b[0;32m      6\u001b[0m \u001b[0mprint\u001b[0m\u001b[1;33m(\u001b[0m\u001b[0mdriver\u001b[0m\u001b[1;33m.\u001b[0m\u001b[0mtitle\u001b[0m\u001b[1;33m)\u001b[0m\u001b[1;33m\u001b[0m\u001b[1;33m\u001b[0m\u001b[0m\n\u001b[0;32m      7\u001b[0m \u001b[1;33m\u001b[0m\u001b[0m\n\u001b[1;32m----> 8\u001b[1;33m Ensembl = WebDriverWait(driver, 20).until(\n\u001b[0m\u001b[0;32m      9\u001b[0m     \u001b[0mEC\u001b[0m\u001b[1;33m.\u001b[0m\u001b[0mpresence_of_element_located\u001b[0m\u001b[1;33m(\u001b[0m\u001b[1;33m(\u001b[0m\u001b[0mBy\u001b[0m\u001b[1;33m.\u001b[0m\u001b[0mXPATH\u001b[0m\u001b[1;33m,\u001b[0m \u001b[1;34m'//*[@id=\"summaryDl\"]/dd[4]/a[1]'\u001b[0m\u001b[1;33m)\u001b[0m\u001b[1;33m)\u001b[0m\u001b[1;33m\u001b[0m\u001b[1;33m\u001b[0m\u001b[0m\n\u001b[0;32m     10\u001b[0m )\n",
      "\u001b[1;32mC:\\Anaconda\\lib\\site-packages\\selenium\\webdriver\\support\\wait.py\u001b[0m in \u001b[0;36muntil\u001b[1;34m(self, method, message)\u001b[0m\n\u001b[0;32m     87\u001b[0m             \u001b[1;32mif\u001b[0m \u001b[0mtime\u001b[0m\u001b[1;33m.\u001b[0m\u001b[0mtime\u001b[0m\u001b[1;33m(\u001b[0m\u001b[1;33m)\u001b[0m \u001b[1;33m>\u001b[0m \u001b[0mend_time\u001b[0m\u001b[1;33m:\u001b[0m\u001b[1;33m\u001b[0m\u001b[1;33m\u001b[0m\u001b[0m\n\u001b[0;32m     88\u001b[0m                 \u001b[1;32mbreak\u001b[0m\u001b[1;33m\u001b[0m\u001b[1;33m\u001b[0m\u001b[0m\n\u001b[1;32m---> 89\u001b[1;33m         \u001b[1;32mraise\u001b[0m \u001b[0mTimeoutException\u001b[0m\u001b[1;33m(\u001b[0m\u001b[0mmessage\u001b[0m\u001b[1;33m,\u001b[0m \u001b[0mscreen\u001b[0m\u001b[1;33m,\u001b[0m \u001b[0mstacktrace\u001b[0m\u001b[1;33m)\u001b[0m\u001b[1;33m\u001b[0m\u001b[1;33m\u001b[0m\u001b[0m\n\u001b[0m\u001b[0;32m     90\u001b[0m \u001b[1;33m\u001b[0m\u001b[0m\n\u001b[0;32m     91\u001b[0m     \u001b[1;32mdef\u001b[0m \u001b[0muntil_not\u001b[0m\u001b[1;33m(\u001b[0m\u001b[0mself\u001b[0m\u001b[1;33m,\u001b[0m \u001b[0mmethod\u001b[0m\u001b[1;33m,\u001b[0m \u001b[0mmessage\u001b[0m\u001b[1;33m=\u001b[0m\u001b[1;34m''\u001b[0m\u001b[1;33m)\u001b[0m\u001b[1;33m:\u001b[0m\u001b[1;33m\u001b[0m\u001b[1;33m\u001b[0m\u001b[0m\n",
      "\u001b[1;31mTimeoutException\u001b[0m: Message: \nStacktrace:\nBacktrace:\n\tOrdinal0 [0x00C79943+2595139]\n\tOrdinal0 [0x00C0C9F1+2148849]\n\tOrdinal0 [0x00B04528+1066280]\n\tOrdinal0 [0x00B30FD4+1249236]\n\tOrdinal0 [0x00B311CB+1249739]\n\tOrdinal0 [0x00B5D812+1431570]\n\tOrdinal0 [0x00B4BA34+1358388]\n\tOrdinal0 [0x00B5BAF2+1424114]\n\tOrdinal0 [0x00B4B806+1357830]\n\tOrdinal0 [0x00B26086+1204358]\n\tOrdinal0 [0x00B26F96+1208214]\n\tGetHandleVerifier [0x00E1B232+1658114]\n\tGetHandleVerifier [0x00ED312C+2411516]\n\tGetHandleVerifier [0x00D0F261+560433]\n\tGetHandleVerifier [0x00D0E366+556598]\n\tOrdinal0 [0x00C1286B+2173035]\n\tOrdinal0 [0x00C175F8+2192888]\n\tOrdinal0 [0x00C176E5+2193125]\n\tOrdinal0 [0x00C211FC+2232828]\n\tBaseThreadInitThunk [0x76FFFA29+25]\n\tRtlGetAppContainerNamedObjectPath [0x77CA7A9E+286]\n\tRtlGetAppContainerNamedObjectPath [0x77CA7A6E+238]\n"
     ]
    }
   ],
   "source": [
    "IDS.click()\n",
    "\n",
    "windows = driver.window_handles\n",
    "# 切換到當前最新開啟的視窗\n",
    "driver.switch_to.window(windows[-1])\n",
    "print(driver.title)\n",
    "\n",
    "Ensembl = WebDriverWait(driver, 20).until(\n",
    "    EC.presence_of_element_located((By.XPATH, '//*[@id=\"summaryDl\"]/dd[4]/a[1]'))\n",
    ")\n",
    "\n"
   ]
  },
  {
   "cell_type": "code",
   "execution_count": 9,
   "metadata": {},
   "outputs": [
    {
     "data": {
      "text/plain": [
       "'Ensembl:ENSMUSG00000031765'"
      ]
     },
     "execution_count": 9,
     "metadata": {},
     "output_type": "execute_result"
    }
   ],
   "source": [
    "Ensembl.text"
   ]
  },
  {
   "cell_type": "code",
   "execution_count": 49,
   "metadata": {},
   "outputs": [
    {
     "name": "stderr",
     "output_type": "stream",
     "text": [
      "<ipython-input-49-d477643fa5bf>:1: DeprecationWarning: executable_path has been deprecated, please pass in a Service object\n",
      "  driverHU = webdriver.Chrome(PATH)\n",
      "<ipython-input-49-d477643fa5bf>:3: DeprecationWarning: find_element_by_* commands are deprecated. Please use find_element() instead\n",
      "  searchHU=driverHU.find_element_by_xpath('//*[@id=\"basicSearch\"]/form/div/input')\n"
     ]
    },
    {
     "name": "stdout",
     "output_type": "stream",
     "text": [
      "MT1A Gene - GeneCards | MT1A Protein | MT1A Antibody\n"
     ]
    }
   ],
   "source": [
    "#這是人類基因的那個網頁\n",
    "driverHU = webdriver.Chrome(PATH)\n",
    "driverHU.get(\"https://www.genecards.org/\")\n",
    "searchHU=driverHU.find_element_by_xpath('//*[@id=\"basicSearch\"]/form/div/input')\n",
    "#Human是上面搜尋到\n",
    "searchHU.send_keys(Human)\n",
    "#searchHU.send_keys(\"MT1A\")\n",
    "searchHU.send_keys(Keys.RETURN)\n",
    "time.sleep(3)#頁面跳轉需要時間\n",
    "linkHU = WebDriverWait(driverHU, 20).until(\n",
    "    EC.presence_of_element_located((By.XPATH, '//*[@id=\"searchResults\"]/tbody/tr[1]/td[3]/a'))\n",
    ")\n",
    "linkHU.click()\n",
    "\n",
    "windowsHU = driverHU.window_handles\n",
    "# 切換到當前最新開啟的視窗\n",
    "driverHU.switch_to.window(windowsHU[-1])\n",
    "print(driverHU.title)\n",
    "\n",
    "HGNC = WebDriverWait(driverHU, 20).until(\n",
    "    EC.presence_of_element_located((By.XPATH, '//*[@id=\"aliases_descriptions\"]/div[1]/div[1]/div[2]/div/ul/li[1]'))\n",
    ")\n",
    "\n",
    "EnsemblHU = WebDriverWait(driverHU, 20).until(\n",
    "    EC.presence_of_element_located((By.XPATH, '//*[@id=\"aliases_descriptions\"]/div[1]/div[1]/div[2]/div/ul/li[3]/a'))\n",
    ")\n",
    "\n",
    "\n"
   ]
  },
  {
   "cell_type": "code",
   "execution_count": 50,
   "metadata": {},
   "outputs": [
    {
     "data": {
      "text/plain": [
       "'ENSG00000205362'"
      ]
     },
     "execution_count": 50,
     "metadata": {},
     "output_type": "execute_result"
    }
   ],
   "source": [
    "EnsemblHU.text"
   ]
  },
  {
   "cell_type": "code",
   "execution_count": 51,
   "metadata": {},
   "outputs": [
    {
     "name": "stdout",
     "output_type": "stream",
     "text": [
      "Gene: MT1A (ENSG00000205362) - Summary - Homo_sapiens - Ensembl genome browser 105\n"
     ]
    }
   ],
   "source": [
    "EnsemblHU.click()\n",
    "\n",
    "windowsHU = driverHU.window_handles\n",
    "# 切換到當前最新開啟的視窗\n",
    "driverHU.switch_to.window(windowsHU[-1])\n",
    "print(driverHU.title)\n",
    "\n",
    "Chromosome = WebDriverWait(driverHU, 20).until(\n",
    "    EC.presence_of_element_located((By.XPATH, '//*[@id=\"ensembl_panel_2\"]/div[2]/div/div[1]/div[3]/div[2]'))\n",
    ")\n"
   ]
  },
  {
   "cell_type": "code",
   "execution_count": 52,
   "metadata": {},
   "outputs": [],
   "source": [
    "\n",
    "\n",
    "b= Chromosome.text.split('.')\n",
    "Chromosome_t=b[0]"
   ]
  },
  {
   "cell_type": "code",
   "execution_count": 53,
   "metadata": {},
   "outputs": [
    {
     "data": {
      "text/plain": [
       "'Chromosome 16: 56,638,666-56,640,087 forward strand'"
      ]
     },
     "execution_count": 53,
     "metadata": {},
     "output_type": "execute_result"
    }
   ],
   "source": [
    "Chromosome_t"
   ]
  },
  {
   "cell_type": "code",
   "execution_count": null,
   "metadata": {},
   "outputs": [],
   "source": []
  }
 ],
 "metadata": {
  "kernelspec": {
   "display_name": "Python 3",
   "language": "python",
   "name": "python3"
  },
  "language_info": {
   "codemirror_mode": {
    "name": "ipython",
    "version": 3
   },
   "file_extension": ".py",
   "mimetype": "text/x-python",
   "name": "python",
   "nbconvert_exporter": "python",
   "pygments_lexer": "ipython3",
   "version": "3.8.5"
  }
 },
 "nbformat": 4,
 "nbformat_minor": 4
}
